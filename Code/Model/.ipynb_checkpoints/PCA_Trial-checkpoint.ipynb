{
 "cells": [
  {
   "cell_type": "code",
   "execution_count": 2,
   "metadata": {},
   "outputs": [],
   "source": [
    "import numpy as np\n",
    "import pandas as pd\n",
    "import operator\n",
    "import pickle\n",
    "from sklearn import preprocessing\n",
    "from sklearn.linear_model import LogisticRegression\n",
    "from sklearn import metrics, cross_validation\n",
    "from sklearn.cross_validation import train_test_split\n",
    "from sklearn import linear_model\n",
    "\n",
    "import matplotlib.pyplot as plt\n",
    "from sklearn.datasets import make_classification\n",
    "from sklearn.decomposition import PCA\n",
    "from imblearn.over_sampling import RandomOverSampler, SMOTE\n",
    "import warnings\n",
    "warnings.filterwarnings(action='once')\n",
    "\n",
    "import xgboost\n",
    "from xgboost import XGBClassifier\n",
    "from sklearn.tree import export_graphviz\n",
    "import graphviz\n",
    "#from sklearn.utils import shuffle\n",
    "from sklearn.ensemble import RandomForestClassifier\n",
    "from sklearn.model_selection import GridSearchCV, RandomizedSearchCV\n",
    "from sklearn.metrics import *\n",
    "import warnings\n",
    "warnings.filterwarnings(action='once')\n",
    "from sklearn.model_selection import StratifiedKFold\n",
    "from scipy import interp\n",
    "from itertools import cycle"
   ]
  },
  {
   "cell_type": "code",
   "execution_count": 6,
   "metadata": {},
   "outputs": [],
   "source": [
    "X = pd.read_pickle('../../Data/Opioids/Model_Data/SMOTE/X.pickle')\n",
    "y = np.load('../../Data/Opioids/Model_Data/SMOTE/y.pickle')\n",
    "X_resampled = np.load('../../Data/Opioids/Model_Data/SMOTE/X_resampled.pickle')\n",
    "y_resampled = np.load('../../Data/Opioids/Model_Data/SMOTE/y_resampled.pickle')\n",
    "X_res_vis = np.load('../../Data/Opioids/Model_Data/SMOTE/X_res_vis.pickle')\n",
    "X_vis = np.load('../../Data/Opioids/Model_Data/SMOTE/X_vis.pickle')\n",
    "X_train = pd.read_pickle('../../Data/Opioids/Model_Data/SMOTE/X_train.pickle')\n",
    "Y_train = pd.read_pickle('../../Data/Opioids/Model_Data/SMOTE/Y_train.pickle')\n",
    "X_test = pd.read_pickle('../../Data/Opioids/Model_Data/SMOTE/X_test.pickle')\n",
    "Y_test = pd.read_pickle('../../Data/Opioids/Model_Data/SMOTE/Y_test.pickle')"
   ]
  },
  {
   "cell_type": "code",
   "execution_count": 4,
   "metadata": {},
   "outputs": [
    {
     "data": {
      "text/plain": [
       "(39938, 26)"
      ]
     },
     "execution_count": 4,
     "metadata": {},
     "output_type": "execute_result"
    }
   ],
   "source": [
    "X_res_vis.shape"
   ]
  },
  {
   "cell_type": "code",
   "execution_count": 5,
   "metadata": {},
   "outputs": [
    {
     "data": {
      "text/plain": [
       "Text(0,0.5,'cumulative explained variance')"
      ]
     },
     "execution_count": 5,
     "metadata": {},
     "output_type": "execute_result"
    },
    {
     "data": {
      "image/png": "[encoded data removed]",
      "text/plain": [
       "<matplotlib.figure.Figure at 0x116f0e668>"
      ]
     },
     "metadata": {},
     "output_type": "display_data"
    }
   ],
   "source": [
    "pca = PCA().fit(X_res_vis)\n",
    "plt.plot(np.cumsum(pca.explained_variance_ratio_))\n",
    "plt.xlabel('number of components')\n",
    "plt.ylabel('cumulative explained variance')"
   ]
  },
  {
   "cell_type": "code",
   "execution_count": 7,
   "metadata": {},
   "outputs": [
    {
     "data": {
      "text/plain": [
       "11"
      ]
     },
     "execution_count": 7,
     "metadata": {},
     "output_type": "execute_result"
    }
   ],
   "source": [
    "pca = PCA(n_components=11).fit(X_res_vis)\n",
    "pca.n_components_"
   ]
  },
  {
   "cell_type": "code",
   "execution_count": 9,
   "metadata": {},
   "outputs": [],
   "source": [
    "X_pca = pca.transform(X_res_vis)\n",
    "filtered = pca.inverse_transform(X_pca)"
   ]
  },
  {
   "cell_type": "code",
   "execution_count": 10,
   "metadata": {},
   "outputs": [
    {
     "data": {
      "text/plain": [
       "(39938, 11)"
      ]
     },
     "execution_count": 10,
     "metadata": {},
     "output_type": "execute_result"
    }
   ],
   "source": [
    "X_pca.shape"
   ]
  },
  {
   "cell_type": "code",
   "execution_count": 11,
   "metadata": {},
   "outputs": [],
   "source": [
    "X_train_pca, X_test_pca, Y_train_pca, Y_test_pca = train_test_split(X_pca, y_resampled, test_size=0.2, random_state=42)\n",
    "\n",
    "# The above returns numpy arrays. Converting them to data frames:\n",
    "X_train_pca = pd.DataFrame(X_train_pca)   \n",
    "X_test_pca = pd.DataFrame(X_test_pca)   \n",
    "Y_train_pca = pd.Series(Y_train_pca)    \n",
    "Y_test_pca = pd.Series(Y_test_pca)"
   ]
  },
  {
   "cell_type": "code",
   "execution_count": 37,
   "metadata": {},
   "outputs": [
    {
     "name": "stderr",
     "output_type": "stream",
     "text": [
      "/anaconda3/lib/python3.6/site-packages/ipykernel_launcher.py:1: ResourceWarning: unclosed file <_io.BufferedWriter name='../../Data/Opioids/Model_Data/SMOTE/X_pca.pickle'>\n",
      "  \"\"\"Entry point for launching an IPython kernel.\n"
     ]
    }
   ],
   "source": [
    "X_pca.dump('../../Data/Opioids/Model_Data/SMOTE/X_pca.pickle')\n",
    "X_train_pca.to_pickle('../../Data/Opioids/Model_Data/SMOTE/X_train_pca.pickle')\n",
    "Y_train_pca.to_pickle('../../Data/Opioids/Model_Data/SMOTE/Y_train_pca.pickle')\n",
    "X_test_pca.to_pickle('../../Data/Opioids/Model_Data/SMOTE/X_test_pca.pickle')\n",
    "Y_test_pca.to_pickle('../../Data/Opioids/Model_Data/SMOTE/Y_test_pca.pickle')"
   ]
  },
  {
   "cell_type": "markdown",
   "metadata": {},
   "source": [
    "### XGBoost"
   ]
  },
  {
   "cell_type": "code",
   "execution_count": 12,
   "metadata": {},
   "outputs": [
    {
     "data": {
      "text/plain": [
       "6390"
      ]
     },
     "execution_count": 12,
     "metadata": {},
     "output_type": "execute_result"
    }
   ],
   "source": [
    "validation_range = int(0.8*len(X_train_pca))\n",
    "X_val_pca = X_train_pca.iloc[range(validation_range, len(X_train_pca))]\n",
    "Y_val_pca = Y_train_pca.iloc[range(validation_range, len(Y_train_pca))]\n",
    "len(Y_val_pca)"
   ]
  },
  {
   "cell_type": "code",
   "execution_count": 13,
   "metadata": {},
   "outputs": [
    {
     "data": {
      "text/plain": [
       "25560"
      ]
     },
     "execution_count": 13,
     "metadata": {},
     "output_type": "execute_result"
    }
   ],
   "source": [
    "X_train_pca = X_train_pca.iloc[range(0, validation_range)]\n",
    "Y_train_pca = Y_train_pca.iloc[range(0, validation_range)]\n",
    "len(X_train_pca)"
   ]
  },
  {
   "cell_type": "code",
   "execution_count": 14,
   "metadata": {},
   "outputs": [],
   "source": [
    "model = XGBClassifier()\n",
    "\n",
    "param_grid = {\"max_depth\": [3, 5, 8, 10], \n",
    "             \"learning_rate\": [0.03, 0.1], \n",
    "             \"n_estimators\": [50, 100, 150, 200], \n",
    "             \"objective\": ['binary:logistic']}\n",
    "\n",
    "clf = GridSearchCV(model, param_grid=param_grid)"
   ]
  },
  {
   "cell_type": "code",
   "execution_count": 15,
   "metadata": {},
   "outputs": [
    {
     "data": {
      "text/plain": [
       "GridSearchCV(cv=None, error_score='raise',\n",
       "       estimator=XGBClassifier(base_score=0.5, booster='gbtree', colsample_bylevel=1,\n",
       "       colsample_bytree=1, gamma=0, learning_rate=0.1, max_delta_step=0,\n",
       "       max_depth=3, min_child_weight=1, missing=None, n_estimators=100,\n",
       "       n_jobs=1, nthread=None, objective='binary:logistic', random_state=0,\n",
       "       reg_alpha=0, reg_lambda=1, scale_pos_weight=1, seed=None,\n",
       "       silent=True, subsample=1),\n",
       "       fit_params=None, iid=True, n_jobs=1,\n",
       "       param_grid={'max_depth': [3, 5, 8, 10], 'learning_rate': [0.03, 0.1], 'n_estimators': [50, 100, 150, 200], 'objective': ['binary:logistic']},\n",
       "       pre_dispatch='2*n_jobs', refit=True, return_train_score='warn',\n",
       "       scoring=None, verbose=0)"
      ]
     },
     "execution_count": 15,
     "metadata": {},
     "output_type": "execute_result"
    }
   ],
   "source": [
    "warnings.filterwarnings('ignore')\n",
    "clf.fit(X_val_pca, Y_val_pca)"
   ]
  },
  {
   "cell_type": "code",
   "execution_count": 16,
   "metadata": {},
   "outputs": [
    {
     "data": {
      "text/plain": [
       "{'learning_rate': 0.1,\n",
       " 'max_depth': 8,\n",
       " 'n_estimators': 200,\n",
       " 'objective': 'binary:logistic'}"
      ]
     },
     "execution_count": 16,
     "metadata": {},
     "output_type": "execute_result"
    }
   ],
   "source": [
    "clf.best_params_"
   ]
  },
  {
   "cell_type": "code",
   "execution_count": 17,
   "metadata": {},
   "outputs": [
    {
     "data": {
      "text/plain": [
       "XGBClassifier(base_score=0.5, booster='gbtree', colsample_bylevel=1,\n",
       "       colsample_bytree=1, gamma=0, learning_rate=0.1, max_delta_step=0,\n",
       "       max_depth=8, min_child_weight=1, missing=None, n_estimators=200,\n",
       "       n_jobs=1, nthread=None, objective='binary:logistic', random_state=0,\n",
       "       reg_alpha=0, reg_lambda=1, scale_pos_weight=1, seed=None,\n",
       "       silent=True, subsample=1)"
      ]
     },
     "execution_count": 17,
     "metadata": {},
     "output_type": "execute_result"
    }
   ],
   "source": [
    "model = XGBClassifier(learning_rate = 0.1, max_depth = 8, n_estimators = 200, objective = 'binary:logistic')\n",
    "model.fit(X_train_pca, Y_train_pca)"
   ]
  },
  {
   "cell_type": "code",
   "execution_count": 18,
   "metadata": {},
   "outputs": [
    {
     "data": {
      "text/plain": [
       "0.8870806209313971"
      ]
     },
     "execution_count": 18,
     "metadata": {},
     "output_type": "execute_result"
    }
   ],
   "source": [
    "y_pred_pca = model.predict(X_test_pca)\n",
    "model.score(X_test_pca, Y_test_pca)"
   ]
  },
  {
   "cell_type": "code",
   "execution_count": null,
   "metadata": {},
   "outputs": [],
   "source": []
  }
 ],
 "metadata": {
  "kernelspec": {
   "display_name": "Python 3",
   "language": "python",
   "name": "python3"
  },
  "language_info": {
   "codemirror_mode": {
    "name": "ipython",
    "version": 3
   },
   "file_extension": ".py",
   "mimetype": "text/x-python",
   "name": "python",
   "nbconvert_exporter": "python",
   "pygments_lexer": "ipython3",
   "version": "3.6.4"
  }
 },
 "nbformat": 4,
 "nbformat_minor": 2
}
