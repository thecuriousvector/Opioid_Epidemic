{
 "cells": [
  {
   "cell_type": "code",
   "execution_count": 1,
   "metadata": {},
   "outputs": [
    {
     "name": "stderr",
     "output_type": "stream",
     "text": [
      "/anaconda3/lib/python3.6/site-packages/sklearn/cross_validation.py:41: DeprecationWarning: This module was deprecated in version 0.18 in favor of the model_selection module into which all the refactored classes and functions are moved. Also note that the interface of the new CV iterators are different from that of this module. This module will be removed in 0.20.\n",
      "  \"This module will be removed in 0.20.\", DeprecationWarning)\n"
     ]
    }
   ],
   "source": [
    "import numpy as np\n",
    "import pandas as pd\n",
    "import operator\n",
    "import pickle\n",
    "from sklearn import preprocessing\n",
    "from sklearn.linear_model import LogisticRegression\n",
    "from sklearn import metrics, cross_validation\n",
    "from sklearn.cross_validation import train_test_split\n",
    "from sklearn import linear_model\n",
    "import matplotlib.pyplot as plt\n",
    "import xgboost\n",
    "from xgboost import XGBClassifier\n",
    "from sklearn.model_selection import GridSearchCV, RandomizedSearchCV\n",
    "from sklearn.metrics import *\n",
    "import warnings\n",
    "warnings.filterwarnings(action='once')"
   ]
  },
  {
   "cell_type": "code",
   "execution_count": 2,
   "metadata": {},
   "outputs": [
    {
     "data": {
      "text/html": [
       "<div>\n",
       "<style scoped>\n",
       "    .dataframe tbody tr th:only-of-type {\n",
       "        vertical-align: middle;\n",
       "    }\n",
       "\n",
       "    .dataframe tbody tr th {\n",
       "        vertical-align: top;\n",
       "    }\n",
       "\n",
       "    .dataframe thead th {\n",
       "        text-align: right;\n",
       "    }\n",
       "</style>\n",
       "<table border=\"1\" class=\"dataframe\">\n",
       "  <thead>\n",
       "    <tr style=\"text-align: right;\">\n",
       "      <th></th>\n",
       "      <th>SUBJECT_ID</th>\n",
       "      <th>GENDER</th>\n",
       "      <th>EXPIRE_FLAG</th>\n",
       "      <th>TOTAL_NARCOTIC_PRESCRIPTONS</th>\n",
       "      <th>TOTAL_ANTI_NARCOTIC_PRESCRIPTONS</th>\n",
       "      <th>NARCOTIC</th>\n",
       "      <th>ANTI-NARCOTIC</th>\n",
       "      <th>ICU_STAY</th>\n",
       "      <th>OXYMORPHONE</th>\n",
       "      <th>OXYCODONE</th>\n",
       "      <th>...</th>\n",
       "      <th>MEPERIDINE</th>\n",
       "      <th>HYDROMORPHONE</th>\n",
       "      <th>HYDROCODONE</th>\n",
       "      <th>FENTANYL</th>\n",
       "      <th>CODEINE</th>\n",
       "      <th>BUPRENORPHINE</th>\n",
       "      <th>METHADONE</th>\n",
       "      <th>NALOXONE</th>\n",
       "      <th>SIDE_EFFECTS_FLAG</th>\n",
       "      <th>AGE_GROUP</th>\n",
       "    </tr>\n",
       "  </thead>\n",
       "  <tbody>\n",
       "    <tr>\n",
       "      <th>0</th>\n",
       "      <td>249</td>\n",
       "      <td>0</td>\n",
       "      <td>0</td>\n",
       "      <td>8.0</td>\n",
       "      <td>0.0</td>\n",
       "      <td>1</td>\n",
       "      <td>0</td>\n",
       "      <td>1</td>\n",
       "      <td>0.0</td>\n",
       "      <td>4.0</td>\n",
       "      <td>...</td>\n",
       "      <td>0.0</td>\n",
       "      <td>12.0</td>\n",
       "      <td>0.0</td>\n",
       "      <td>0.0</td>\n",
       "      <td>0.0</td>\n",
       "      <td>0.0</td>\n",
       "      <td>0.0</td>\n",
       "      <td>0.0</td>\n",
       "      <td>0.0</td>\n",
       "      <td>7</td>\n",
       "    </tr>\n",
       "    <tr>\n",
       "      <th>1</th>\n",
       "      <td>250</td>\n",
       "      <td>0</td>\n",
       "      <td>1</td>\n",
       "      <td>6.0</td>\n",
       "      <td>0.0</td>\n",
       "      <td>1</td>\n",
       "      <td>0</td>\n",
       "      <td>1</td>\n",
       "      <td>0.0</td>\n",
       "      <td>0.0</td>\n",
       "      <td>...</td>\n",
       "      <td>0.0</td>\n",
       "      <td>0.0</td>\n",
       "      <td>0.0</td>\n",
       "      <td>15.0</td>\n",
       "      <td>0.0</td>\n",
       "      <td>0.0</td>\n",
       "      <td>0.0</td>\n",
       "      <td>0.0</td>\n",
       "      <td>0.0</td>\n",
       "      <td>3</td>\n",
       "    </tr>\n",
       "    <tr>\n",
       "      <th>2</th>\n",
       "      <td>252</td>\n",
       "      <td>1</td>\n",
       "      <td>0</td>\n",
       "      <td>4.0</td>\n",
       "      <td>0.0</td>\n",
       "      <td>1</td>\n",
       "      <td>0</td>\n",
       "      <td>1</td>\n",
       "      <td>0.0</td>\n",
       "      <td>0.0</td>\n",
       "      <td>...</td>\n",
       "      <td>2.0</td>\n",
       "      <td>0.0</td>\n",
       "      <td>0.0</td>\n",
       "      <td>14.0</td>\n",
       "      <td>0.0</td>\n",
       "      <td>0.0</td>\n",
       "      <td>0.0</td>\n",
       "      <td>0.0</td>\n",
       "      <td>0.0</td>\n",
       "      <td>5</td>\n",
       "    </tr>\n",
       "    <tr>\n",
       "      <th>3</th>\n",
       "      <td>255</td>\n",
       "      <td>1</td>\n",
       "      <td>0</td>\n",
       "      <td>2.0</td>\n",
       "      <td>0.0</td>\n",
       "      <td>1</td>\n",
       "      <td>0</td>\n",
       "      <td>0</td>\n",
       "      <td>0.0</td>\n",
       "      <td>4.0</td>\n",
       "      <td>...</td>\n",
       "      <td>0.0</td>\n",
       "      <td>0.0</td>\n",
       "      <td>0.0</td>\n",
       "      <td>0.0</td>\n",
       "      <td>0.0</td>\n",
       "      <td>0.0</td>\n",
       "      <td>0.0</td>\n",
       "      <td>0.0</td>\n",
       "      <td>0.0</td>\n",
       "      <td>7</td>\n",
       "    </tr>\n",
       "    <tr>\n",
       "      <th>4</th>\n",
       "      <td>256</td>\n",
       "      <td>1</td>\n",
       "      <td>0</td>\n",
       "      <td>22.0</td>\n",
       "      <td>0.0</td>\n",
       "      <td>1</td>\n",
       "      <td>0</td>\n",
       "      <td>1</td>\n",
       "      <td>0.0</td>\n",
       "      <td>31.0</td>\n",
       "      <td>...</td>\n",
       "      <td>0.0</td>\n",
       "      <td>5.0</td>\n",
       "      <td>0.0</td>\n",
       "      <td>9.0</td>\n",
       "      <td>0.0</td>\n",
       "      <td>0.0</td>\n",
       "      <td>0.0</td>\n",
       "      <td>0.0</td>\n",
       "      <td>0.0</td>\n",
       "      <td>7</td>\n",
       "    </tr>\n",
       "  </tbody>\n",
       "</table>\n",
       "<p>5 rows × 21 columns</p>\n",
       "</div>"
      ],
      "text/plain": [
       "   SUBJECT_ID  GENDER  EXPIRE_FLAG  TOTAL_NARCOTIC_PRESCRIPTONS  \\\n",
       "0         249       0            0                          8.0   \n",
       "1         250       0            1                          6.0   \n",
       "2         252       1            0                          4.0   \n",
       "3         255       1            0                          2.0   \n",
       "4         256       1            0                         22.0   \n",
       "\n",
       "   TOTAL_ANTI_NARCOTIC_PRESCRIPTONS  NARCOTIC  ANTI-NARCOTIC  ICU_STAY  \\\n",
       "0                               0.0         1              0         1   \n",
       "1                               0.0         1              0         1   \n",
       "2                               0.0         1              0         1   \n",
       "3                               0.0         1              0         0   \n",
       "4                               0.0         1              0         1   \n",
       "\n",
       "   OXYMORPHONE  OXYCODONE    ...      MEPERIDINE  HYDROMORPHONE  HYDROCODONE  \\\n",
       "0          0.0        4.0    ...             0.0           12.0          0.0   \n",
       "1          0.0        0.0    ...             0.0            0.0          0.0   \n",
       "2          0.0        0.0    ...             2.0            0.0          0.0   \n",
       "3          0.0        4.0    ...             0.0            0.0          0.0   \n",
       "4          0.0       31.0    ...             0.0            5.0          0.0   \n",
       "\n",
       "   FENTANYL  CODEINE  BUPRENORPHINE  METHADONE  NALOXONE  SIDE_EFFECTS_FLAG  \\\n",
       "0       0.0      0.0            0.0        0.0       0.0                0.0   \n",
       "1      15.0      0.0            0.0        0.0       0.0                0.0   \n",
       "2      14.0      0.0            0.0        0.0       0.0                0.0   \n",
       "3       0.0      0.0            0.0        0.0       0.0                0.0   \n",
       "4       9.0      0.0            0.0        0.0       0.0                0.0   \n",
       "\n",
       "   AGE_GROUP  \n",
       "0          7  \n",
       "1          3  \n",
       "2          5  \n",
       "3          7  \n",
       "4          7  \n",
       "\n",
       "[5 rows x 21 columns]"
      ]
     },
     "execution_count": 2,
     "metadata": {},
     "output_type": "execute_result"
    }
   ],
   "source": [
    "subject_details = pd.read_pickle('../../../Data/Opioids/Model_Data/subject_details_age.pickle')\n",
    "subject_details.drop([\"AGE\"], axis=1, inplace=True)\n",
    "subject_details.head()"
   ]
  },
  {
   "cell_type": "code",
   "execution_count": 3,
   "metadata": {},
   "outputs": [
    {
     "data": {
      "text/html": [
       "<div>\n",
       "<style scoped>\n",
       "    .dataframe tbody tr th:only-of-type {\n",
       "        vertical-align: middle;\n",
       "    }\n",
       "\n",
       "    .dataframe tbody tr th {\n",
       "        vertical-align: top;\n",
       "    }\n",
       "\n",
       "    .dataframe thead th {\n",
       "        text-align: right;\n",
       "    }\n",
       "</style>\n",
       "<table border=\"1\" class=\"dataframe\">\n",
       "  <thead>\n",
       "    <tr style=\"text-align: right;\">\n",
       "      <th></th>\n",
       "      <th>GENDER</th>\n",
       "      <th>EXPIRE_FLAG</th>\n",
       "      <th>TOTAL_NARCOTIC_PRESCRIPTONS</th>\n",
       "      <th>TOTAL_ANTI_NARCOTIC_PRESCRIPTONS</th>\n",
       "      <th>NARCOTIC</th>\n",
       "      <th>ANTI-NARCOTIC</th>\n",
       "      <th>ICU_STAY</th>\n",
       "      <th>OXYMORPHONE</th>\n",
       "      <th>OXYCODONE</th>\n",
       "      <th>MORPHINE</th>\n",
       "      <th>...</th>\n",
       "      <th>HYDROMORPHONE</th>\n",
       "      <th>HYDROCODONE</th>\n",
       "      <th>FENTANYL</th>\n",
       "      <th>CODEINE</th>\n",
       "      <th>BUPRENORPHINE</th>\n",
       "      <th>METHADONE</th>\n",
       "      <th>NALOXONE</th>\n",
       "      <th>SIDE_EFFECTS_FLAG</th>\n",
       "      <th>AGE_GROUP</th>\n",
       "      <th>SUBJECT_ID</th>\n",
       "    </tr>\n",
       "  </thead>\n",
       "  <tbody>\n",
       "    <tr>\n",
       "      <th>0</th>\n",
       "      <td>0.0</td>\n",
       "      <td>0.0</td>\n",
       "      <td>0.020305</td>\n",
       "      <td>0.0</td>\n",
       "      <td>1.0</td>\n",
       "      <td>0.0</td>\n",
       "      <td>1.0</td>\n",
       "      <td>0.0</td>\n",
       "      <td>0.010499</td>\n",
       "      <td>0.037694</td>\n",
       "      <td>...</td>\n",
       "      <td>0.013857</td>\n",
       "      <td>0.0</td>\n",
       "      <td>0.000000</td>\n",
       "      <td>0.0</td>\n",
       "      <td>0.0</td>\n",
       "      <td>0.090024</td>\n",
       "      <td>0.0</td>\n",
       "      <td>0.0</td>\n",
       "      <td>7</td>\n",
       "      <td>249</td>\n",
       "    </tr>\n",
       "    <tr>\n",
       "      <th>1</th>\n",
       "      <td>0.0</td>\n",
       "      <td>1.0</td>\n",
       "      <td>0.015228</td>\n",
       "      <td>0.0</td>\n",
       "      <td>1.0</td>\n",
       "      <td>0.0</td>\n",
       "      <td>1.0</td>\n",
       "      <td>0.0</td>\n",
       "      <td>0.000000</td>\n",
       "      <td>0.004435</td>\n",
       "      <td>...</td>\n",
       "      <td>0.000000</td>\n",
       "      <td>0.0</td>\n",
       "      <td>0.006754</td>\n",
       "      <td>0.0</td>\n",
       "      <td>0.0</td>\n",
       "      <td>0.090024</td>\n",
       "      <td>0.0</td>\n",
       "      <td>0.0</td>\n",
       "      <td>3</td>\n",
       "      <td>250</td>\n",
       "    </tr>\n",
       "    <tr>\n",
       "      <th>2</th>\n",
       "      <td>1.0</td>\n",
       "      <td>0.0</td>\n",
       "      <td>0.010152</td>\n",
       "      <td>0.0</td>\n",
       "      <td>1.0</td>\n",
       "      <td>0.0</td>\n",
       "      <td>1.0</td>\n",
       "      <td>0.0</td>\n",
       "      <td>0.000000</td>\n",
       "      <td>0.000000</td>\n",
       "      <td>...</td>\n",
       "      <td>0.000000</td>\n",
       "      <td>0.0</td>\n",
       "      <td>0.006303</td>\n",
       "      <td>0.0</td>\n",
       "      <td>0.0</td>\n",
       "      <td>0.090024</td>\n",
       "      <td>0.0</td>\n",
       "      <td>0.0</td>\n",
       "      <td>5</td>\n",
       "      <td>252</td>\n",
       "    </tr>\n",
       "    <tr>\n",
       "      <th>3</th>\n",
       "      <td>1.0</td>\n",
       "      <td>0.0</td>\n",
       "      <td>0.005076</td>\n",
       "      <td>0.0</td>\n",
       "      <td>1.0</td>\n",
       "      <td>0.0</td>\n",
       "      <td>0.0</td>\n",
       "      <td>0.0</td>\n",
       "      <td>0.010499</td>\n",
       "      <td>0.008869</td>\n",
       "      <td>...</td>\n",
       "      <td>0.000000</td>\n",
       "      <td>0.0</td>\n",
       "      <td>0.000000</td>\n",
       "      <td>0.0</td>\n",
       "      <td>0.0</td>\n",
       "      <td>0.090024</td>\n",
       "      <td>0.0</td>\n",
       "      <td>0.0</td>\n",
       "      <td>7</td>\n",
       "      <td>255</td>\n",
       "    </tr>\n",
       "    <tr>\n",
       "      <th>4</th>\n",
       "      <td>1.0</td>\n",
       "      <td>0.0</td>\n",
       "      <td>0.055838</td>\n",
       "      <td>0.0</td>\n",
       "      <td>1.0</td>\n",
       "      <td>0.0</td>\n",
       "      <td>1.0</td>\n",
       "      <td>0.0</td>\n",
       "      <td>0.081365</td>\n",
       "      <td>0.008869</td>\n",
       "      <td>...</td>\n",
       "      <td>0.005774</td>\n",
       "      <td>0.0</td>\n",
       "      <td>0.004052</td>\n",
       "      <td>0.0</td>\n",
       "      <td>0.0</td>\n",
       "      <td>0.090024</td>\n",
       "      <td>0.0</td>\n",
       "      <td>0.0</td>\n",
       "      <td>7</td>\n",
       "      <td>256</td>\n",
       "    </tr>\n",
       "  </tbody>\n",
       "</table>\n",
       "<p>5 rows × 21 columns</p>\n",
       "</div>"
      ],
      "text/plain": [
       "   GENDER  EXPIRE_FLAG  TOTAL_NARCOTIC_PRESCRIPTONS  \\\n",
       "0     0.0          0.0                     0.020305   \n",
       "1     0.0          1.0                     0.015228   \n",
       "2     1.0          0.0                     0.010152   \n",
       "3     1.0          0.0                     0.005076   \n",
       "4     1.0          0.0                     0.055838   \n",
       "\n",
       "   TOTAL_ANTI_NARCOTIC_PRESCRIPTONS  NARCOTIC  ANTI-NARCOTIC  ICU_STAY  \\\n",
       "0                               0.0       1.0            0.0       1.0   \n",
       "1                               0.0       1.0            0.0       1.0   \n",
       "2                               0.0       1.0            0.0       1.0   \n",
       "3                               0.0       1.0            0.0       0.0   \n",
       "4                               0.0       1.0            0.0       1.0   \n",
       "\n",
       "   OXYMORPHONE  OXYCODONE  MORPHINE     ...      HYDROMORPHONE  HYDROCODONE  \\\n",
       "0          0.0   0.010499  0.037694     ...           0.013857          0.0   \n",
       "1          0.0   0.000000  0.004435     ...           0.000000          0.0   \n",
       "2          0.0   0.000000  0.000000     ...           0.000000          0.0   \n",
       "3          0.0   0.010499  0.008869     ...           0.000000          0.0   \n",
       "4          0.0   0.081365  0.008869     ...           0.005774          0.0   \n",
       "\n",
       "   FENTANYL  CODEINE  BUPRENORPHINE  METHADONE  NALOXONE  SIDE_EFFECTS_FLAG  \\\n",
       "0  0.000000      0.0            0.0   0.090024       0.0                0.0   \n",
       "1  0.006754      0.0            0.0   0.090024       0.0                0.0   \n",
       "2  0.006303      0.0            0.0   0.090024       0.0                0.0   \n",
       "3  0.000000      0.0            0.0   0.090024       0.0                0.0   \n",
       "4  0.004052      0.0            0.0   0.090024       0.0                0.0   \n",
       "\n",
       "   AGE_GROUP  SUBJECT_ID  \n",
       "0          7         249  \n",
       "1          3         250  \n",
       "2          5         252  \n",
       "3          7         255  \n",
       "4          7         256  \n",
       "\n",
       "[5 rows x 21 columns]"
      ]
     },
     "execution_count": 3,
     "metadata": {},
     "output_type": "execute_result"
    }
   ],
   "source": [
    "x = subject_details.values\n",
    "min_max_scaler = preprocessing.MinMaxScaler()\n",
    "x_scaled = min_max_scaler.fit_transform(x)\n",
    "subject_details_normalized = pd.DataFrame(x_scaled)\n",
    "subject_details_normalized.columns=subject_details.columns\n",
    "subject_details_normalized.drop([\"SUBJECT_ID\",\"AGE_GROUP\"], axis=1, inplace=True)\n",
    "subject_details_normalized[\"AGE_GROUP\"] = subject_details[\"AGE_GROUP\"].values\n",
    "subject_details_normalized[\"SUBJECT_ID\"] = subject_details[\"SUBJECT_ID\"].values\n",
    "subject_details_normalized.head()"
   ]
  },
  {
   "cell_type": "code",
   "execution_count": 4,
   "metadata": {},
   "outputs": [
    {
     "data": {
      "text/html": [
       "<div>\n",
       "<style scoped>\n",
       "    .dataframe tbody tr th:only-of-type {\n",
       "        vertical-align: middle;\n",
       "    }\n",
       "\n",
       "    .dataframe tbody tr th {\n",
       "        vertical-align: top;\n",
       "    }\n",
       "\n",
       "    .dataframe thead th {\n",
       "        text-align: right;\n",
       "    }\n",
       "</style>\n",
       "<table border=\"1\" class=\"dataframe\">\n",
       "  <thead>\n",
       "    <tr style=\"text-align: right;\">\n",
       "      <th></th>\n",
       "      <th>SUBJECT_ID</th>\n",
       "      <th>GENDER</th>\n",
       "      <th>EXPIRE_FLAG</th>\n",
       "      <th>TOTAL_NARCOTIC_PRESCRIPTONS</th>\n",
       "      <th>TOTAL_ANTI_NARCOTIC_PRESCRIPTONS</th>\n",
       "      <th>NARCOTIC</th>\n",
       "      <th>ANTI-NARCOTIC</th>\n",
       "      <th>ICU_STAY</th>\n",
       "      <th>OXYMORPHONE</th>\n",
       "      <th>OXYCODONE</th>\n",
       "      <th>...</th>\n",
       "      <th>MEPERIDINE</th>\n",
       "      <th>HYDROMORPHONE</th>\n",
       "      <th>HYDROCODONE</th>\n",
       "      <th>FENTANYL</th>\n",
       "      <th>CODEINE</th>\n",
       "      <th>BUPRENORPHINE</th>\n",
       "      <th>METHADONE</th>\n",
       "      <th>NALOXONE</th>\n",
       "      <th>SIDE_EFFECTS_FLAG</th>\n",
       "      <th>AGE_GROUP</th>\n",
       "    </tr>\n",
       "  </thead>\n",
       "  <tbody>\n",
       "    <tr>\n",
       "      <th>0</th>\n",
       "      <td>249</td>\n",
       "      <td>0.0</td>\n",
       "      <td>0.0</td>\n",
       "      <td>0.020305</td>\n",
       "      <td>0.0</td>\n",
       "      <td>1.0</td>\n",
       "      <td>0.0</td>\n",
       "      <td>1.0</td>\n",
       "      <td>0.0</td>\n",
       "      <td>0.010499</td>\n",
       "      <td>...</td>\n",
       "      <td>0.000000</td>\n",
       "      <td>0.013857</td>\n",
       "      <td>0.0</td>\n",
       "      <td>0.000000</td>\n",
       "      <td>0.0</td>\n",
       "      <td>0.0</td>\n",
       "      <td>0.090024</td>\n",
       "      <td>0.0</td>\n",
       "      <td>0.0</td>\n",
       "      <td>7</td>\n",
       "    </tr>\n",
       "    <tr>\n",
       "      <th>1</th>\n",
       "      <td>250</td>\n",
       "      <td>0.0</td>\n",
       "      <td>1.0</td>\n",
       "      <td>0.015228</td>\n",
       "      <td>0.0</td>\n",
       "      <td>1.0</td>\n",
       "      <td>0.0</td>\n",
       "      <td>1.0</td>\n",
       "      <td>0.0</td>\n",
       "      <td>0.000000</td>\n",
       "      <td>...</td>\n",
       "      <td>0.000000</td>\n",
       "      <td>0.000000</td>\n",
       "      <td>0.0</td>\n",
       "      <td>0.006754</td>\n",
       "      <td>0.0</td>\n",
       "      <td>0.0</td>\n",
       "      <td>0.090024</td>\n",
       "      <td>0.0</td>\n",
       "      <td>0.0</td>\n",
       "      <td>3</td>\n",
       "    </tr>\n",
       "    <tr>\n",
       "      <th>2</th>\n",
       "      <td>252</td>\n",
       "      <td>1.0</td>\n",
       "      <td>0.0</td>\n",
       "      <td>0.010152</td>\n",
       "      <td>0.0</td>\n",
       "      <td>1.0</td>\n",
       "      <td>0.0</td>\n",
       "      <td>1.0</td>\n",
       "      <td>0.0</td>\n",
       "      <td>0.000000</td>\n",
       "      <td>...</td>\n",
       "      <td>0.015625</td>\n",
       "      <td>0.000000</td>\n",
       "      <td>0.0</td>\n",
       "      <td>0.006303</td>\n",
       "      <td>0.0</td>\n",
       "      <td>0.0</td>\n",
       "      <td>0.090024</td>\n",
       "      <td>0.0</td>\n",
       "      <td>0.0</td>\n",
       "      <td>5</td>\n",
       "    </tr>\n",
       "    <tr>\n",
       "      <th>3</th>\n",
       "      <td>255</td>\n",
       "      <td>1.0</td>\n",
       "      <td>0.0</td>\n",
       "      <td>0.005076</td>\n",
       "      <td>0.0</td>\n",
       "      <td>1.0</td>\n",
       "      <td>0.0</td>\n",
       "      <td>0.0</td>\n",
       "      <td>0.0</td>\n",
       "      <td>0.010499</td>\n",
       "      <td>...</td>\n",
       "      <td>0.000000</td>\n",
       "      <td>0.000000</td>\n",
       "      <td>0.0</td>\n",
       "      <td>0.000000</td>\n",
       "      <td>0.0</td>\n",
       "      <td>0.0</td>\n",
       "      <td>0.090024</td>\n",
       "      <td>0.0</td>\n",
       "      <td>0.0</td>\n",
       "      <td>7</td>\n",
       "    </tr>\n",
       "    <tr>\n",
       "      <th>4</th>\n",
       "      <td>256</td>\n",
       "      <td>1.0</td>\n",
       "      <td>0.0</td>\n",
       "      <td>0.055838</td>\n",
       "      <td>0.0</td>\n",
       "      <td>1.0</td>\n",
       "      <td>0.0</td>\n",
       "      <td>1.0</td>\n",
       "      <td>0.0</td>\n",
       "      <td>0.081365</td>\n",
       "      <td>...</td>\n",
       "      <td>0.000000</td>\n",
       "      <td>0.005774</td>\n",
       "      <td>0.0</td>\n",
       "      <td>0.004052</td>\n",
       "      <td>0.0</td>\n",
       "      <td>0.0</td>\n",
       "      <td>0.090024</td>\n",
       "      <td>0.0</td>\n",
       "      <td>0.0</td>\n",
       "      <td>7</td>\n",
       "    </tr>\n",
       "  </tbody>\n",
       "</table>\n",
       "<p>5 rows × 21 columns</p>\n",
       "</div>"
      ],
      "text/plain": [
       "   SUBJECT_ID  GENDER  EXPIRE_FLAG  TOTAL_NARCOTIC_PRESCRIPTONS  \\\n",
       "0         249     0.0          0.0                     0.020305   \n",
       "1         250     0.0          1.0                     0.015228   \n",
       "2         252     1.0          0.0                     0.010152   \n",
       "3         255     1.0          0.0                     0.005076   \n",
       "4         256     1.0          0.0                     0.055838   \n",
       "\n",
       "   TOTAL_ANTI_NARCOTIC_PRESCRIPTONS  NARCOTIC  ANTI-NARCOTIC  ICU_STAY  \\\n",
       "0                               0.0       1.0            0.0       1.0   \n",
       "1                               0.0       1.0            0.0       1.0   \n",
       "2                               0.0       1.0            0.0       1.0   \n",
       "3                               0.0       1.0            0.0       0.0   \n",
       "4                               0.0       1.0            0.0       1.0   \n",
       "\n",
       "   OXYMORPHONE  OXYCODONE    ...      MEPERIDINE  HYDROMORPHONE  HYDROCODONE  \\\n",
       "0          0.0   0.010499    ...        0.000000       0.013857          0.0   \n",
       "1          0.0   0.000000    ...        0.000000       0.000000          0.0   \n",
       "2          0.0   0.000000    ...        0.015625       0.000000          0.0   \n",
       "3          0.0   0.010499    ...        0.000000       0.000000          0.0   \n",
       "4          0.0   0.081365    ...        0.000000       0.005774          0.0   \n",
       "\n",
       "   FENTANYL  CODEINE  BUPRENORPHINE  METHADONE  NALOXONE  SIDE_EFFECTS_FLAG  \\\n",
       "0  0.000000      0.0            0.0   0.090024       0.0                0.0   \n",
       "1  0.006754      0.0            0.0   0.090024       0.0                0.0   \n",
       "2  0.006303      0.0            0.0   0.090024       0.0                0.0   \n",
       "3  0.000000      0.0            0.0   0.090024       0.0                0.0   \n",
       "4  0.004052      0.0            0.0   0.090024       0.0                0.0   \n",
       "\n",
       "   AGE_GROUP  \n",
       "0          7  \n",
       "1          3  \n",
       "2          5  \n",
       "3          7  \n",
       "4          7  \n",
       "\n",
       "[5 rows x 21 columns]"
      ]
     },
     "execution_count": 4,
     "metadata": {},
     "output_type": "execute_result"
    }
   ],
   "source": [
    "cols = subject_details_normalized.columns.tolist()\n",
    "cols = cols[-1:] + cols[:-1]\n",
    "subject_details_normalized = subject_details_normalized[cols]\n",
    "subject_details_normalized.head()"
   ]
  },
  {
   "cell_type": "code",
   "execution_count": 5,
   "metadata": {},
   "outputs": [],
   "source": [
    "subjects_with_side_effects = pd.read_pickle('../../../Data/Opioids/Model_Data/Age_Condensed/subjects_with_side_effects.pickle')\n",
    "subjects_without_side_effects = pd.read_pickle('../../../Data/Opioids/Model_Data/Age_Condensed/subjects_without_side_effects.pickle')\n",
    "data = pd.read_pickle('../../../Data/Opioids/Model_Data/Age_Condensed/data.pickle')"
   ]
  },
  {
   "cell_type": "code",
   "execution_count": 6,
   "metadata": {},
   "outputs": [
    {
     "data": {
      "text/plain": [
       "20703"
      ]
     },
     "execution_count": 6,
     "metadata": {},
     "output_type": "execute_result"
    }
   ],
   "source": [
    "data = data.sample(frac=1).reset_index(drop=True)\n",
    "#len(data)\n",
    "X = data[['GENDER', 'EXPIRE_FLAG', 'TOTAL_NARCOTIC_PRESCRIPTONS',\n",
    "       'TOTAL_ANTI_NARCOTIC_PRESCRIPTONS', 'NARCOTIC', 'ANTI-NARCOTIC',\n",
    "       'ICU_STAY', 'OXYMORPHONE', 'OXYCODONE', 'MORPHINE', 'MEPERIDINE',\n",
    "       'HYDROMORPHONE', 'HYDROCODONE', 'FENTANYL', 'CODEINE', 'BUPRENORPHINE',\n",
    "       'METHADONE', 'NALOXONE', 'AGE_1', 'AGE_2', 'AGE_3', 'AGE_4', 'AGE_5', 'AGE_6', 'AGE_7', 'AGE_8']]\n",
    "y = data[['SIDE_EFFECTS_FLAG']]\n",
    "y = y.as_matrix()\n",
    "y = y.reshape(20703,)\n",
    "len(data)"
   ]
  },
  {
   "cell_type": "code",
   "execution_count": 7,
   "metadata": {},
   "outputs": [
    {
     "data": {
      "text/plain": [
       "734"
      ]
     },
     "execution_count": 7,
     "metadata": {},
     "output_type": "execute_result"
    }
   ],
   "source": [
    "subjects_with_side_effects_list = list(subjects_with_side_effects['SUBJECT_ID'])\n",
    "len(subjects_with_side_effects_list)"
   ]
  },
  {
   "cell_type": "code",
   "execution_count": 8,
   "metadata": {},
   "outputs": [
    {
     "data": {
      "text/plain": [
       "734"
      ]
     },
     "execution_count": 8,
     "metadata": {},
     "output_type": "execute_result"
    }
   ],
   "source": [
    "data = data[data['SUBJECT_ID'].isin(subjects_with_side_effects_list)]\n",
    "len(data)"
   ]
  },
  {
   "cell_type": "code",
   "execution_count": 9,
   "metadata": {},
   "outputs": [],
   "source": [
    "data = data.sample(frac=1).reset_index(drop=True)\n",
    "#len(data)\n",
    "X = data[['GENDER', 'TOTAL_NARCOTIC_PRESCRIPTONS',\n",
    "       'TOTAL_ANTI_NARCOTIC_PRESCRIPTONS', 'NARCOTIC', 'ANTI-NARCOTIC',\n",
    "       'ICU_STAY', 'OXYMORPHONE', 'OXYCODONE', 'MORPHINE', 'MEPERIDINE',\n",
    "       'HYDROMORPHONE', 'HYDROCODONE', 'FENTANYL', 'CODEINE', 'BUPRENORPHINE',\n",
    "       'METHADONE', 'NALOXONE', 'AGE_1', 'AGE_2', 'AGE_3', 'AGE_4', 'AGE_5', 'AGE_6', 'AGE_7', 'AGE_8', 'SIDE_EFFECTS_FLAG']]\n",
    "y = data[['EXPIRE_FLAG']]\n",
    "y = y.as_matrix()\n",
    "y = y.reshape(734,)"
   ]
  },
  {
   "cell_type": "code",
   "execution_count": 10,
   "metadata": {},
   "outputs": [],
   "source": [
    "X_train, X_test, Y_train, Y_test = train_test_split(X, y, test_size=0.2, random_state=42)\n",
    "\n",
    "# The above returns numpy arrays. Converting them to data frames:\n",
    "X_train = pd.DataFrame(X_train)   \n",
    "X_test = pd.DataFrame(X_test)   \n",
    "Y_train = pd.Series(Y_train)    \n",
    "Y_test = pd.Series(Y_test)"
   ]
  },
  {
   "cell_type": "code",
   "execution_count": 11,
   "metadata": {},
   "outputs": [
    {
     "data": {
      "text/plain": [
       "95"
      ]
     },
     "execution_count": 11,
     "metadata": {},
     "output_type": "execute_result"
    }
   ],
   "source": [
    "y_t = list(Y_train)\n",
    "len(y_t)\n",
    "y_t.count(1)\n",
    "\n",
    "y_te = list(Y_test)\n",
    "len(y_te)\n",
    "y_te.count(0)"
   ]
  },
  {
   "cell_type": "code",
   "execution_count": 12,
   "metadata": {},
   "outputs": [
    {
     "name": "stdout",
     "output_type": "stream",
     "text": [
      "Accuracy Score: 0.724796\n",
      "             precision    recall  f1-score   support\n",
      "\n",
      "        0.0       0.72      0.98      0.83       512\n",
      "        1.0       0.78      0.13      0.22       222\n",
      "\n",
      "avg / total       0.74      0.72      0.65       734\n",
      "\n"
     ]
    }
   ],
   "source": [
    "warnings.filterwarnings('ignore')\n",
    "predicted = cross_validation.cross_val_predict(LogisticRegression(), X, y, cv=10)\n",
    "print(\"Accuracy Score: %f\" %(metrics.accuracy_score(y, predicted)))\n",
    "print(metrics.classification_report(y, predicted))"
   ]
  },
  {
   "cell_type": "code",
   "execution_count": 13,
   "metadata": {},
   "outputs": [
    {
     "data": {
      "text/plain": [
       "118"
      ]
     },
     "execution_count": 13,
     "metadata": {},
     "output_type": "execute_result"
    }
   ],
   "source": [
    "validation_range = int(0.8*len(X_train))\n",
    "X_val = X_train.iloc[range(validation_range, len(X_train))]\n",
    "Y_val = Y_train.iloc[range(validation_range, len(Y_train))]\n",
    "len(Y_val)"
   ]
  },
  {
   "cell_type": "code",
   "execution_count": 14,
   "metadata": {},
   "outputs": [
    {
     "data": {
      "text/plain": [
       "469"
      ]
     },
     "execution_count": 14,
     "metadata": {},
     "output_type": "execute_result"
    }
   ],
   "source": [
    "X_train = X_train.iloc[range(0, validation_range)]\n",
    "Y_train = Y_train.iloc[range(0, validation_range)]\n",
    "len(X_train)"
   ]
  },
  {
   "cell_type": "code",
   "execution_count": 15,
   "metadata": {},
   "outputs": [],
   "source": [
    "model = XGBClassifier()\n",
    "\n",
    "param_grid = {\"max_depth\": [3, 5, 8, 10], \n",
    "             \"learning_rate\": [0.03, 0.1], \n",
    "             \"n_estimators\": [50, 100, 150, 200], \n",
    "             \"objective\": ['binary:logistic']}\n",
    "\n",
    "clf = GridSearchCV(model, param_grid=param_grid)"
   ]
  },
  {
   "cell_type": "code",
   "execution_count": 16,
   "metadata": {},
   "outputs": [
    {
     "data": {
      "text/plain": [
       "GridSearchCV(cv=None, error_score='raise',\n",
       "       estimator=XGBClassifier(base_score=0.5, booster='gbtree', colsample_bylevel=1,\n",
       "       colsample_bytree=1, gamma=0, learning_rate=0.1, max_delta_step=0,\n",
       "       max_depth=3, min_child_weight=1, missing=None, n_estimators=100,\n",
       "       n_jobs=1, nthread=None, objective='binary:logistic', random_state=0,\n",
       "       reg_alpha=0, reg_lambda=1, scale_pos_weight=1, seed=None,\n",
       "       silent=True, subsample=1),\n",
       "       fit_params=None, iid=True, n_jobs=1,\n",
       "       param_grid={'max_depth': [3, 5, 8, 10], 'learning_rate': [0.03, 0.1], 'n_estimators': [50, 100, 150, 200], 'objective': ['binary:logistic']},\n",
       "       pre_dispatch='2*n_jobs', refit=True, return_train_score='warn',\n",
       "       scoring=None, verbose=0)"
      ]
     },
     "execution_count": 16,
     "metadata": {},
     "output_type": "execute_result"
    }
   ],
   "source": [
    "warnings.filterwarnings('ignore')\n",
    "clf.fit(X_val, Y_val)"
   ]
  },
  {
   "cell_type": "code",
   "execution_count": 17,
   "metadata": {},
   "outputs": [
    {
     "data": {
      "text/plain": [
       "{'learning_rate': 0.03,\n",
       " 'max_depth': 3,\n",
       " 'n_estimators': 50,\n",
       " 'objective': 'binary:logistic'}"
      ]
     },
     "execution_count": 17,
     "metadata": {},
     "output_type": "execute_result"
    }
   ],
   "source": [
    "clf.best_params_"
   ]
  },
  {
   "cell_type": "code",
   "execution_count": 18,
   "metadata": {},
   "outputs": [
    {
     "data": {
      "text/plain": [
       "XGBClassifier(base_score=0.5, booster='gbtree', colsample_bylevel=1,\n",
       "       colsample_bytree=1, gamma=0, learning_rate=0.03, max_delta_step=0,\n",
       "       max_depth=3, min_child_weight=1, missing=None, n_estimators=50,\n",
       "       n_jobs=1, nthread=None, objective='binary:logistic', random_state=0,\n",
       "       reg_alpha=0, reg_lambda=1, scale_pos_weight=1, seed=None,\n",
       "       silent=True, subsample=1)"
      ]
     },
     "execution_count": 18,
     "metadata": {},
     "output_type": "execute_result"
    }
   ],
   "source": [
    "model = XGBClassifier(learning_rate = 0.03, max_depth = 3, n_estimators = 50, objective = 'binary:logistic')\n",
    "model.fit(X_train, Y_train)"
   ]
  },
  {
   "cell_type": "code",
   "execution_count": 19,
   "metadata": {},
   "outputs": [
    {
     "name": "stdout",
     "output_type": "stream",
     "text": [
      "0.6870748299319728\n"
     ]
    }
   ],
   "source": [
    "y_pred = model.predict(X_test)\n",
    "print(model.score(X_test, Y_test))"
   ]
  },
  {
   "cell_type": "code",
   "execution_count": 20,
   "metadata": {},
   "outputs": [
    {
     "name": "stdout",
     "output_type": "stream",
     "text": [
      "Accuracy:  0.6870748299319728\n",
      "             precision    recall  f1-score   support\n",
      "\n",
      "        0.0       0.68      0.96      0.80        95\n",
      "        1.0       0.71      0.19      0.30        52\n",
      "\n",
      "avg / total       0.69      0.69      0.62       147\n",
      "\n"
     ]
    }
   ],
   "source": [
    "print('Accuracy: ', model.score(X_test, Y_test))\n",
    "print(classification_report(Y_test, y_pred))"
   ]
  },
  {
   "cell_type": "code",
   "execution_count": 21,
   "metadata": {},
   "outputs": [
    {
     "name": "stdout",
     "output_type": "stream",
     "text": [
      "Accuracy: 0.687075\n",
      "Recall: 0.714286\n",
      "Precision: 0.192308\n",
      "F1-Score: 0.303030\n"
     ]
    }
   ],
   "source": [
    "y_pred = model.predict(X_test)\n",
    "y_prob = model.predict_proba(X_test)\n",
    "recall = recall_score(y_pred, Y_test)\n",
    "precision = precision_score(y_pred, Y_test)\n",
    "accuracy = accuracy_score(y_pred, Y_test)\n",
    "f1 = f1_score(y_pred, Y_test)\n",
    "print(\"Accuracy: %f\" %accuracy)\n",
    "print(\"Recall: %f\" %recall)\n",
    "print(\"Precision: %f\" %precision)\n",
    "print(\"F1-Score: %f\" %f1)"
   ]
  },
  {
   "cell_type": "code",
   "execution_count": 22,
   "metadata": {},
   "outputs": [
    {
     "data": {
      "text/plain": [
       "147"
      ]
     },
     "execution_count": 22,
     "metadata": {},
     "output_type": "execute_result"
    }
   ],
   "source": [
    "len(Y_test)"
   ]
  },
  {
   "cell_type": "code",
   "execution_count": null,
   "metadata": {},
   "outputs": [],
   "source": []
  }
 ],
 "metadata": {
  "kernelspec": {
   "display_name": "Python 3",
   "language": "python",
   "name": "python3"
  },
  "language_info": {
   "codemirror_mode": {
    "name": "ipython",
    "version": 3
   },
   "file_extension": ".py",
   "mimetype": "text/x-python",
   "name": "python",
   "nbconvert_exporter": "python",
   "pygments_lexer": "ipython3",
   "version": "3.6.4"
  }
 },
 "nbformat": 4,
 "nbformat_minor": 2
}
