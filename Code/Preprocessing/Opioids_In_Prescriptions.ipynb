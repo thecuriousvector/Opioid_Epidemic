{
 "cells": [
  {
   "cell_type": "markdown",
   "metadata": {
    "deletable": true,
    "editable": true
   },
   "source": [
    "# This notebook retreives all the subjects that were ever prescribed at least one of the following opioids\n",
    "\n",
    "Buprenorphine\n",
    "Codeine\n",
    "Dihydrocodeine\n",
    "Fentanyl\n",
    "Hydrocodone\n",
    "Hydromorphone\n",
    "Levorphanol\n",
    "Meperidine\n",
    "6-Acetylmorphine\n",
    "Morphine-3-Glucuronide\n",
    "---- both ---- Nalorphine\n",
    "-------------- Naloxone\n",
    "Oxycodone\n",
    "Oxymorphone\n",
    "----------- acetaminophen --------------- \n",
    "------------ methadone\n",
    "\n",
    "### Definite Narcotics:\n",
    "Oxymorphone\n",
    "Oxycodone\n",
    "Morphine\n",
    "Meperidine\n",
    "Hydromorphone\n",
    "Hydrocodone\n",
    "Fentanyl\n",
    "Codeine  (& Dihydrocodeine)\n",
    "Buprenorphine\n",
    "Levorphanol  ---- Not high risk\n",
    "Methadone  ---- Not high risk\n",
    "carfentanil --- synthetic analegsic\n",
    "heroin\n",
    "\n",
    "### Anti narcotics:\n",
    "methadone\n",
    "Naloxone\n",
    "Nalorphine"
   ]
  },
  {
   "cell_type": "code",
   "execution_count": 1,
   "metadata": {
    "collapsed": true,
    "deletable": true,
    "editable": true
   },
   "outputs": [],
   "source": [
    "import numpy as np\n",
    "import pandas as pd\n",
    "import operator\n",
    "import pickle"
   ]
  },
  {
   "cell_type": "code",
   "execution_count": 2,
   "metadata": {
    "collapsed": true,
    "deletable": true,
    "editable": true
   },
   "outputs": [],
   "source": [
    "## Reading MIMIC Data\n",
    "data_dir = \"../Data/\"\n",
    "drug_codes = pd.read_csv(data_dir+\"DRGCODES.csv.gz\", compression=\"gzip\")\n",
    "patients = pd.read_csv(data_dir+\"PATIENTS.csv.gz\", compression=\"gzip\")"
   ]
  },
  {
   "cell_type": "code",
   "execution_count": 3,
   "metadata": {
    "collapsed": false,
    "deletable": true,
    "editable": true
   },
   "outputs": [
    {
     "name": "stderr",
     "output_type": "stream",
     "text": [
      "/share/apps/python3/3.5.3/intel/lib/python3.5/site-packages/IPython/core/interactiveshell.py:2717: DtypeWarning: Columns (11) have mixed types. Specify dtype option on import or set low_memory=False.\n",
      "  interactivity=interactivity, compiler=compiler, result=result)\n"
     ]
    },
    {
     "data": {
      "text/html": [
       "<div>\n",
       "<table border=\"1\" class=\"dataframe\">\n",
       "  <thead>\n",
       "    <tr style=\"text-align: right;\">\n",
       "      <th></th>\n",
       "      <th>ROW_ID</th>\n",
       "      <th>SUBJECT_ID</th>\n",
       "      <th>HADM_ID</th>\n",
       "      <th>ICUSTAY_ID</th>\n",
       "      <th>STARTDATE</th>\n",
       "      <th>ENDDATE</th>\n",
       "      <th>DRUG_TYPE</th>\n",
       "      <th>DRUG</th>\n",
       "      <th>DRUG_NAME_POE</th>\n",
       "      <th>DRUG_NAME_GENERIC</th>\n",
       "      <th>FORMULARY_DRUG_CD</th>\n",
       "      <th>GSN</th>\n",
       "      <th>NDC</th>\n",
       "      <th>PROD_STRENGTH</th>\n",
       "      <th>DOSE_VAL_RX</th>\n",
       "      <th>DOSE_UNIT_RX</th>\n",
       "      <th>FORM_VAL_DISP</th>\n",
       "      <th>FORM_UNIT_DISP</th>\n",
       "      <th>ROUTE</th>\n",
       "    </tr>\n",
       "  </thead>\n",
       "  <tbody>\n",
       "    <tr>\n",
       "      <th>0</th>\n",
       "      <td>2214776</td>\n",
       "      <td>6</td>\n",
       "      <td>107064</td>\n",
       "      <td>NaN</td>\n",
       "      <td>2175-06-11 00:00:00</td>\n",
       "      <td>2175-06-12 00:00:00</td>\n",
       "      <td>MAIN</td>\n",
       "      <td>Tacrolimus</td>\n",
       "      <td>Tacrolimus</td>\n",
       "      <td>Tacrolimus</td>\n",
       "      <td>TACR1</td>\n",
       "      <td>021796</td>\n",
       "      <td>469061711.0</td>\n",
       "      <td>1mg Capsule</td>\n",
       "      <td>2</td>\n",
       "      <td>mg</td>\n",
       "      <td>2</td>\n",
       "      <td>CAP</td>\n",
       "      <td>PO</td>\n",
       "    </tr>\n",
       "    <tr>\n",
       "      <th>1</th>\n",
       "      <td>2214775</td>\n",
       "      <td>6</td>\n",
       "      <td>107064</td>\n",
       "      <td>NaN</td>\n",
       "      <td>2175-06-11 00:00:00</td>\n",
       "      <td>2175-06-12 00:00:00</td>\n",
       "      <td>MAIN</td>\n",
       "      <td>Warfarin</td>\n",
       "      <td>Warfarin</td>\n",
       "      <td>Warfarin</td>\n",
       "      <td>WARF5</td>\n",
       "      <td>006562</td>\n",
       "      <td>56017275.0</td>\n",
       "      <td>5mg Tablet</td>\n",
       "      <td>5</td>\n",
       "      <td>mg</td>\n",
       "      <td>1</td>\n",
       "      <td>TAB</td>\n",
       "      <td>PO</td>\n",
       "    </tr>\n",
       "    <tr>\n",
       "      <th>2</th>\n",
       "      <td>2215524</td>\n",
       "      <td>6</td>\n",
       "      <td>107064</td>\n",
       "      <td>NaN</td>\n",
       "      <td>2175-06-11 00:00:00</td>\n",
       "      <td>2175-06-12 00:00:00</td>\n",
       "      <td>MAIN</td>\n",
       "      <td>Heparin Sodium</td>\n",
       "      <td>NaN</td>\n",
       "      <td>NaN</td>\n",
       "      <td>HEPAPREMIX</td>\n",
       "      <td>006522</td>\n",
       "      <td>338055002.0</td>\n",
       "      <td>25,000 unit Premix Bag</td>\n",
       "      <td>25,000</td>\n",
       "      <td>UNIT</td>\n",
       "      <td>1</td>\n",
       "      <td>BAG</td>\n",
       "      <td>IV</td>\n",
       "    </tr>\n",
       "    <tr>\n",
       "      <th>3</th>\n",
       "      <td>2216265</td>\n",
       "      <td>6</td>\n",
       "      <td>107064</td>\n",
       "      <td>NaN</td>\n",
       "      <td>2175-06-11 00:00:00</td>\n",
       "      <td>2175-06-12 00:00:00</td>\n",
       "      <td>BASE</td>\n",
       "      <td>D5W</td>\n",
       "      <td>NaN</td>\n",
       "      <td>NaN</td>\n",
       "      <td>HEPBASE</td>\n",
       "      <td>NaN</td>\n",
       "      <td>0.0</td>\n",
       "      <td>HEPARIN BASE</td>\n",
       "      <td>250</td>\n",
       "      <td>ml</td>\n",
       "      <td>250</td>\n",
       "      <td>ml</td>\n",
       "      <td>IV</td>\n",
       "    </tr>\n",
       "    <tr>\n",
       "      <th>4</th>\n",
       "      <td>2214773</td>\n",
       "      <td>6</td>\n",
       "      <td>107064</td>\n",
       "      <td>NaN</td>\n",
       "      <td>2175-06-11 00:00:00</td>\n",
       "      <td>2175-06-12 00:00:00</td>\n",
       "      <td>MAIN</td>\n",
       "      <td>Furosemide</td>\n",
       "      <td>Furosemide</td>\n",
       "      <td>Furosemide</td>\n",
       "      <td>FURO20</td>\n",
       "      <td>008208</td>\n",
       "      <td>54829725.0</td>\n",
       "      <td>20mg Tablet</td>\n",
       "      <td>20</td>\n",
       "      <td>mg</td>\n",
       "      <td>1</td>\n",
       "      <td>TAB</td>\n",
       "      <td>PO</td>\n",
       "    </tr>\n",
       "  </tbody>\n",
       "</table>\n",
       "</div>"
      ],
      "text/plain": [
       "    ROW_ID  SUBJECT_ID  HADM_ID  ICUSTAY_ID            STARTDATE  \\\n",
       "0  2214776           6   107064         NaN  2175-06-11 00:00:00   \n",
       "1  2214775           6   107064         NaN  2175-06-11 00:00:00   \n",
       "2  2215524           6   107064         NaN  2175-06-11 00:00:00   \n",
       "3  2216265           6   107064         NaN  2175-06-11 00:00:00   \n",
       "4  2214773           6   107064         NaN  2175-06-11 00:00:00   \n",
       "\n",
       "               ENDDATE DRUG_TYPE            DRUG DRUG_NAME_POE  \\\n",
       "0  2175-06-12 00:00:00      MAIN      Tacrolimus    Tacrolimus   \n",
       "1  2175-06-12 00:00:00      MAIN        Warfarin      Warfarin   \n",
       "2  2175-06-12 00:00:00      MAIN  Heparin Sodium           NaN   \n",
       "3  2175-06-12 00:00:00      BASE             D5W           NaN   \n",
       "4  2175-06-12 00:00:00      MAIN      Furosemide    Furosemide   \n",
       "\n",
       "  DRUG_NAME_GENERIC FORMULARY_DRUG_CD     GSN          NDC  \\\n",
       "0        Tacrolimus             TACR1  021796  469061711.0   \n",
       "1          Warfarin             WARF5  006562   56017275.0   \n",
       "2               NaN        HEPAPREMIX  006522  338055002.0   \n",
       "3               NaN           HEPBASE     NaN          0.0   \n",
       "4        Furosemide            FURO20  008208   54829725.0   \n",
       "\n",
       "            PROD_STRENGTH DOSE_VAL_RX DOSE_UNIT_RX FORM_VAL_DISP  \\\n",
       "0             1mg Capsule           2           mg             2   \n",
       "1              5mg Tablet           5           mg             1   \n",
       "2  25,000 unit Premix Bag      25,000         UNIT             1   \n",
       "3            HEPARIN BASE         250           ml           250   \n",
       "4             20mg Tablet          20           mg             1   \n",
       "\n",
       "  FORM_UNIT_DISP ROUTE  \n",
       "0            CAP    PO  \n",
       "1            TAB    PO  \n",
       "2            BAG    IV  \n",
       "3             ml    IV  \n",
       "4            TAB    PO  "
      ]
     },
     "execution_count": 3,
     "metadata": {},
     "output_type": "execute_result"
    }
   ],
   "source": [
    "prescriptions = pd.read_csv(data_dir+\"PRESCRIPTIONS.csv.gz\", compression=\"gzip\")\n",
    "prescriptions.head(5)"
   ]
  },
  {
   "cell_type": "raw",
   "metadata": {
    "deletable": true,
    "editable": true
   },
   "source": [
    "### Narcotic Drugs"
   ]
  },
  {
   "cell_type": "code",
   "execution_count": 4,
   "metadata": {
    "collapsed": false,
    "deletable": true,
    "editable": true
   },
   "outputs": [],
   "source": [
    "narcotic_drugs = ['oxymorphone', 'oxycodone', 'morphine', 'meperidine', \n",
    "                  'hydromorphone', 'hydrocodone', 'fentanyl', 'codeine', 'buprenorphine', 'levorphanol', 'methadone']\n",
    "anti_narcotic_drugs = ['methadone', 'naloxone', 'nalorphine']\n",
    "both_drugs = narcotic_drugs + anti_narcotic_drugs"
   ]
  },
  {
   "cell_type": "code",
   "execution_count": 7,
   "metadata": {
    "collapsed": false,
    "deletable": true,
    "editable": true
   },
   "outputs": [
    {
     "data": {
      "text/plain": [
       "0"
      ]
     },
     "execution_count": 7,
     "metadata": {},
     "output_type": "execute_result"
    }
   ],
   "source": [
    "heroin = prescriptions[prescriptions[\"DRUG\"].str.contains('heroin')]\n",
    "len(carfentanil_drug)"
   ]
  },
  {
   "cell_type": "code",
   "execution_count": 5,
   "metadata": {
    "collapsed": true,
    "deletable": true,
    "editable": true
   },
   "outputs": [],
   "source": [
    "## Convert drug names to lower case\n",
    "\n",
    "prescriptions[\"DRUG\"] = prescriptions[\"DRUG\"].str.lower()"
   ]
  },
  {
   "cell_type": "code",
   "execution_count": 31,
   "metadata": {
    "collapsed": false,
    "deletable": true,
    "editable": true
   },
   "outputs": [],
   "source": [
    "prescriptions_with_narcotic_drugs = prescriptions[prescriptions[\"DRUG\"].str.contains(\"|\".join(narcotic_drugs))]\n",
    "prescriptions_with_anti_narcotic_drugs = prescriptions[prescriptions[\"DRUG\"].str.contains(\"|\".join(anti_narcotic_drugs))]\n",
    "prescriptions_with_both_drugs = prescriptions[prescriptions[\"DRUG\"].str.contains(\"|\".join(both_drugs))]"
   ]
  },
  {
   "cell_type": "code",
   "execution_count": 30,
   "metadata": {
    "collapsed": true,
    "deletable": true,
    "editable": true
   },
   "outputs": [],
   "source": [
    "## Mixed narcotic and anti-narcotic drug - methadone\n",
    "prescriptions_with_mixed_drugs = prescriptions[prescriptions[\"DRUG\"].str.contains(\"methadone\")]"
   ]
  },
  {
   "cell_type": "code",
   "execution_count": 36,
   "metadata": {
    "collapsed": false,
    "deletable": true,
    "editable": true
   },
   "outputs": [],
   "source": [
    "## Drop buprenorphine-naloxone (8mg-2mg) frm ant-narcotics\n",
    "\n",
    "prescriptions_with_anti_narcotic_drugs = prescriptions_with_anti_narcotic_drugs[prescriptions_with_anti_narcotic_drugs[\"DRUG\"] != ('buprenorphine-naloxone (8mg-2mg)')]"
   ]
  },
  {
   "cell_type": "code",
   "execution_count": 37,
   "metadata": {
    "collapsed": false,
    "deletable": true,
    "editable": true
   },
   "outputs": [],
   "source": [
    "narcotic_in_prescription = set(prescriptions_with_narcotic_drugs[\"DRUG\"])\n",
    "anti_narcotic_in_prescription = set(prescriptions_with_anti_narcotic_drugs[\"DRUG\"])\n",
    "mixed_drug_in_prescription = set(prescriptions_with_mixed_drugs[\"DRUG\"])"
   ]
  },
  {
   "cell_type": "code",
   "execution_count": 38,
   "metadata": {
    "collapsed": false,
    "deletable": true,
    "editable": true
   },
   "outputs": [
    {
     "name": "stdout",
     "output_type": "stream",
     "text": [
      "Narcotic Drugs: 89\n",
      "{'hydromorphone hcl', 'oxycodone (immediate release) ', 'neo*po*morphine', 'methadone hcl', 'methadone (dispersible tablet)', 'morphine sulfate (oral soln.)', 'morphine sulfate (0.5-4mg)', 'morphine (pf)', 'morphine concentrate', 'morphine sulfate (pf)', 'tylenol-codeine #3', 'oxycodone liquid', 'hydrocodone-acetaminophen (5mg-500mg)', 'fentanyl ', 'hydromorphone solution', 'hydromorphone p.f.', 'morphine sulfate', 'oxycodone-acetaminophen elixir', 'morphine sulfate for inhalation', 'codeine phosphate', 'morphine su', 'morphine sulfate (concentrated oral soln)', 'morphine sulfate ir', 'chlorpheniramine-hydrocodone', 'meperidine pf', 'morphine sr (ms contin)', 'methadone', 'morphine sulfate pf', 'oxycodone ', 'hydromorphone', 'codeine-guaifenesin', 'morphine sulfate (4-8mg)', 'morphine sulfate (1-5mg)', 'buprenorphine hcl', 'hydromorphone-hp', 'acetaminophen w/codeine', 'morphine sulfate (1-10mg)', 'oxycodone hcl', 'codeine sulfate', 'morphine sulfate (2-5mg)', 'oxycodone-acetaminophen', 'morphine sulfate (immediate release)', 'buprenorphine-naloxone (8mg-2mg)', 'oxymorphone hcl', 'neo*iv*morphine sulfate', 'hydrocodone-acetaminophen (5mg-500mg', 'morphine ', 'hydromorphone (rectal)', 'codeine', 'morphine pca', 'hydromorphone infusion ? comfort care guidelines', 'morphine sulfat', 'oxycodone concentrate', 'oxycodone', 'morphine s', 'morphine sulfate (2-4mg)', 'fentanyl pca', 'hydromorphone pca (dilaudid)', 'oxycodone (sustained release)', 'hydromorphone (dilaudid)', 'fentanyl citrate (pf)', 'methadone pca', 'morphine infusion ? comfort care guidelines', 'hydromorphone pca', 'guaifenesin-codeine phosphate', 'hydromorphone ', 'fentanyl', 'tylenol w/codeine elixir', 'morphine', 'fentanyl patch', 'meperidine pca', 'morphine sulfate (2-6mg)', 'morphine sulfate (syringe)', 'morphine sulfa', 'meperidine hcl', 'meperidine (pf)', 'oxycodone (immediate release)', 'hydrocodone-acetaminophen', 'buprenorphine', 'morphine sulfate sr', 'meperidine', 'acetaminophen w/codeine elixir', 'neo*iv*fentanyl', 'morphine sulfate ', 'oxycodone sr (oxycontin)', 'oxycodone-acetaminophen (5mg-325mg)', 'fentanyl citrate', 'morphine sul', 'oxymorphone'}\n",
      "Anti-Narcotic Drugs: 6\n",
      "{'naloxone hcl', 'methadone', 'naloxone', 'methadone pca', 'methadone hcl', 'methadone (dispersible tablet)'}\n",
      "Mixed Drugs: 4\n",
      "{'methadone pca', 'methadone hcl', 'methadone (dispersible tablet)', 'methadone'}\n"
     ]
    }
   ],
   "source": [
    "print(\"Narcotic Drugs: %i\" %(len(narcotic_in_prescription)))\n",
    "print(narcotic_in_prescription)\n",
    "print(\"Anti-Narcotic Drugs: %i\" %(len(anti_narcotic_in_prescription)))\n",
    "print(anti_narcotic_in_prescription)\n",
    "print(\"Mixed Drugs: %i\" %(len(mixed_drug_in_prescription)))\n",
    "print(mixed_drug_in_prescription)"
   ]
  },
  {
   "cell_type": "code",
   "execution_count": 40,
   "metadata": {
    "collapsed": false,
    "deletable": true,
    "editable": true
   },
   "outputs": [
    {
     "name": "stdout",
     "output_type": "stream",
     "text": [
      "prescriptions_with_narcotic_drugs: 216947\n",
      "prescriptions_with_anti_narcotic_drugs: 5672\n",
      "prescriptions_with_mixed_drugs (methadone): 4398\n",
      "prescriptions_with_both_drugs: 218221\n"
     ]
    }
   ],
   "source": [
    "print(\"prescriptions_with_narcotic_drugs: %i\" %(len(prescriptions_with_narcotic_drugs)))\n",
    "print(\"prescriptions_with_anti_narcotic_drugs: %i\" %(len(prescriptions_with_anti_narcotic_drugs)))\n",
    "print(\"prescriptions_with_mixed_drugs (methadone): %i\" %(len(prescriptions_with_mixed_drugs)))\n",
    "print(\"prescriptions_with_both_drugs: %i\" %(len(prescriptions_with_both_drugs)))"
   ]
  },
  {
   "cell_type": "code",
   "execution_count": 57,
   "metadata": {
    "collapsed": false,
    "deletable": true,
    "editable": true
   },
   "outputs": [],
   "source": [
    "with open('../Data/Opioids/Prescriptions/prescriptions_with_narcotic_drugs.pickle', 'wb') as pickler:\n",
    "    pickle.dump(prescriptions_with_narcotic_drugs, pickler, protocol=pickle.HIGHEST_PROTOCOL)\n",
    "with open('../Data/Opioids/Prescriptions/prescriptions_with_anti_narcotic_drugs.pickle', 'wb') as pickler:\n",
    "    pickle.dump(prescriptions_with_anti_narcotic_drugs, pickler, protocol=pickle.HIGHEST_PROTOCOL)\n",
    "with open('../Data/Opioids/Prescriptions/prescriptions_with_mixed_drugs.pickle', 'wb') as pickler:\n",
    "    pickle.dump(prescriptions_with_mixed_drugs, pickler, protocol=pickle.HIGHEST_PROTOCOL)\n",
    "with open('../Data/Opioids/Prescriptions/prescriptions_with_both_drugs.pickle', 'wb') as pickler:\n",
    "    pickle.dump(prescriptions_with_both_drugs, pickler, protocol=pickle.HIGHEST_PROTOCOL)\n"
   ]
  },
  {
   "cell_type": "code",
   "execution_count": 50,
   "metadata": {
    "collapsed": false,
    "deletable": true,
    "editable": true
   },
   "outputs": [
    {
     "name": "stdout",
     "output_type": "stream",
     "text": [
      "{'buprenorphine': 50, 'hydromorphone': 53202, 'codeine': 2356, 'methadone': 4398, 'fentanyl': 35734, 'oxymorphone': 4, 'levorphanol': 0, 'oxycodone': 44538, 'hydrocodone': 1998, 'morphine': 68045, 'meperidine': 6622}\n"
     ]
    }
   ],
   "source": [
    "narcotic_drug_count = {'oxymorphone':0, 'oxycodone':0, 'morphine':0, 'meperidine':0, \n",
    "                  'hydromorphone':0, 'hydrocodone':0, 'fentanyl':0, 'codeine':0, 'buprenorphine':0, 'levorphanol':0, 'methadone':0}\n",
    "for index, row in prescriptions_with_narcotic_drugs.iterrows():\n",
    "    if ('oxymorphone' in row[\"DRUG\"]):\n",
    "        narcotic_drug_count['oxymorphone'] += 1\n",
    "    elif 'oxycodone' in row[\"DRUG\"]:\n",
    "        narcotic_drug_count['oxycodone'] += 1\n",
    "    elif 'morphine' in row[\"DRUG\"]:\n",
    "        narcotic_drug_count['morphine'] += 1\n",
    "    elif 'meperidine' in row[\"DRUG\"]:\n",
    "        narcotic_drug_count['meperidine'] += 1\n",
    "    elif 'hydromorphone' in row[\"DRUG\"]:\n",
    "        narcotic_drug_count['hydromorphone'] += 1\n",
    "    elif 'hydrocodone' in row[\"DRUG\"]:\n",
    "        narcotic_drug_count['hydrocodone'] += 1\n",
    "    elif 'fentanyl' in row[\"DRUG\"]:\n",
    "        narcotic_drug_count['fentanyl'] += 1\n",
    "    elif 'codeine' in row[\"DRUG\"]:\n",
    "        narcotic_drug_count['codeine'] += 1\n",
    "    elif 'buprenorphine' in row[\"DRUG\"]:\n",
    "        narcotic_drug_count['buprenorphine'] += 1\n",
    "    elif 'levorphanol' in row[\"DRUG\"]:\n",
    "        narcotic_drug_count['levorphanol'] += 1\n",
    "    elif 'methadone' in row[\"DRUG\"]:\n",
    "        narcotic_drug_count['methadone'] += 1\n",
    "\n",
    "print(narcotic_drug_count)"
   ]
  },
  {
   "cell_type": "code",
   "execution_count": 51,
   "metadata": {
    "collapsed": false,
    "deletable": true,
    "editable": true
   },
   "outputs": [
    {
     "name": "stdout",
     "output_type": "stream",
     "text": [
      "{'naloxone': 1274, 'nalorphine': 0, 'methadone': 4398}\n"
     ]
    }
   ],
   "source": [
    "anti_narcotic_drug_count = {'methadone':0, 'naloxone':0, 'nalorphine':0}\n",
    "for index, row in prescriptions_with_anti_narcotic_drugs.iterrows():\n",
    "    if ('methadone' in row[\"DRUG\"]):\n",
    "        anti_narcotic_drug_count['methadone'] += 1\n",
    "    elif 'naloxone' in row[\"DRUG\"]:\n",
    "        anti_narcotic_drug_count['naloxone'] += 1\n",
    "    elif 'nalorphine' in row[\"DRUG\"]:\n",
    "        anti_narcotic_drug_count['nalorphine'] += 1\n",
    "        \n",
    "print(anti_narcotic_drug_count)"
   ]
  },
  {
   "cell_type": "markdown",
   "metadata": {
    "deletable": true,
    "editable": true
   },
   "source": [
    "A prescription can be repeated for same subject. Hence, we look at the number of unique subjects that narcotics/anti-narcotics were prescribed."
   ]
  },
  {
   "cell_type": "code",
   "execution_count": 53,
   "metadata": {
    "collapsed": true,
    "deletable": true,
    "editable": true
   },
   "outputs": [],
   "source": [
    "subjects_with_narcotic_drugs = set(prescriptions_with_narcotic_drugs[\"SUBJECT_ID\"])\n",
    "subjects_with_anti_narcotic_drugs = set(prescriptions_with_anti_narcotic_drugs[\"SUBJECT_ID\"])\n",
    "subjects_with_mixed_drugs = set(prescriptions_with_mixed_drugs[\"SUBJECT_ID\"])\n",
    "subjects_with_both_drugs = set(prescriptions_with_both_drugs[\"SUBJECT_ID\"])"
   ]
  },
  {
   "cell_type": "code",
   "execution_count": 54,
   "metadata": {
    "collapsed": false,
    "deletable": true,
    "editable": true
   },
   "outputs": [
    {
     "name": "stdout",
     "output_type": "stream",
     "text": [
      "subjects_with_narcotic_drugs: 29959\n",
      "subjects_with_anti_narcotic_drugs: 1437\n",
      "subjects_with_mixed_drugs (methadone): 736\n",
      "subjects_with_both_drugs: 29991\n"
     ]
    }
   ],
   "source": [
    "print(\"subjects_with_narcotic_drugs: %i\" %(len(subjects_with_narcotic_drugs)))\n",
    "print(\"subjects_with_anti_narcotic_drugs: %i\" %(len(subjects_with_anti_narcotic_drugs)))\n",
    "print(\"subjects_with_mixed_drugs (methadone): %i\" %(len(subjects_with_mixed_drugs)))\n",
    "print(\"subjects_with_both_drugs: %i\" %(len(subjects_with_both_drugs)))"
   ]
  },
  {
   "cell_type": "code",
   "execution_count": 56,
   "metadata": {
    "collapsed": false,
    "deletable": true,
    "editable": true
   },
   "outputs": [
    {
     "data": {
      "text/plain": [
       "1405"
      ]
     },
     "execution_count": 56,
     "metadata": {},
     "output_type": "execute_result"
    }
   ],
   "source": [
    "subjects_with_narcotic_and_anti_narcotic = subjects_with_narcotic_drugs.intersection(subjects_with_anti_narcotic_drugs)\n",
    "len(subjects_with_narcotic_and_anti_narcotic)"
   ]
  },
  {
   "cell_type": "code",
   "execution_count": null,
   "metadata": {
    "collapsed": true,
    "deletable": true,
    "editable": true
   },
   "outputs": [],
   "source": []
  }
 ],
 "metadata": {
  "kernelspec": {
   "display_name": "Python 3",
   "language": "python",
   "name": "python3"
  },
  "language_info": {
   "codemirror_mode": {
    "name": "ipython",
    "version": 3
   },
   "file_extension": ".py",
   "mimetype": "text/x-python",
   "name": "python",
   "nbconvert_exporter": "python",
   "pygments_lexer": "ipython3",
   "version": "3.5.3"
  }
 },
 "nbformat": 4,
 "nbformat_minor": 2
}
